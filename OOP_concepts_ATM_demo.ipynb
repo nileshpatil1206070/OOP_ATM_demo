{
  "nbformat": 4,
  "nbformat_minor": 0,
  "metadata": {
    "colab": {
      "provenance": []
    },
    "kernelspec": {
      "name": "python3",
      "display_name": "Python 3"
    },
    "language_info": {
      "name": "python"
    }
  },
  "cells": [
    {
      "cell_type": "code",
      "source": [],
      "metadata": {
        "id": "IRaDywoKFR9j"
      },
      "execution_count": null,
      "outputs": []
    },
    {
      "cell_type": "markdown",
      "source": [
        " **Working with OOP**"
      ],
      "metadata": {
        "id": "b_VpqbI-LZAa"
      }
    },
    {
      "cell_type": "code",
      "source": [
        "# we will create list or int and check\n",
        "\n",
        "a=5\n",
        "l=[5,1,2,3,4]\n",
        "(l.append(7))\n",
        "print(l)"
      ],
      "metadata": {
        "id": "bXhEBqJwLghZ"
      },
      "execution_count": null,
      "outputs": []
    },
    {
      "cell_type": "markdown",
      "source": [
        "**Basic code for ATM machine operations**"
      ],
      "metadata": {
        "id": "f6ZN49nEFObE"
      }
    },
    {
      "cell_type": "code",
      "source": [
        "# we will use Pascal case for class name\n",
        "# we will use snake_case for data and methods\n",
        "# in the class whenever we are defining data\n",
        "# we need to do it in special method called init\n",
        "# init is a constructor (spe. method) which gets automatically executed as\n",
        "# soon as we create the object of the class\n",
        "class Atm:\n",
        "\n",
        "  def __init__(self): #constructor\n",
        "    self.pin=\"\"\n",
        "    self.balance=0\n",
        "    print(id(self))\n",
        "\n",
        "\n",
        "    self.menu()\n",
        "\n",
        "  def menu(self):\n",
        "    user_input=input(\"\"\"\n",
        "    Hello, how would you like to proceed?\n",
        "    1.Enter 1 to create pin\n",
        "    2.Enter 2 to deposit\n",
        "    3.Enter 3 to withdraw\n",
        "    4.Enter 4 to check balance\n",
        "    5.Enter 5 to exit\n",
        "    \"\"\")\n",
        "\n",
        "    if user_input==\"1\":\n",
        "      #print(\"create pin:\")\n",
        "      self.create_pin()\n",
        "    elif user_input ==\"2\":\n",
        "      #print(\"deposit:\")\n",
        "      self.deposit()\n",
        "    elif user_input==\"3\":\n",
        "      #print(\"withdraw:\")\n",
        "      self.withdraw()\n",
        "    elif user_input==\"4\":\n",
        "      #print(\"check_balence:\")\n",
        "      self.check_balance()\n",
        "    else:\n",
        "      print(\"bye\")\n",
        "\n",
        "# we will create methods for each functinalities\n",
        "# so that our object can access them\n",
        "\n",
        "  def create_pin(self):\n",
        "    self.pin=input(\"enter your new pin:\")\n",
        "    print(\"Pin set successfully:\",self.pin)\n",
        "\n",
        "  def deposit(self):\n",
        "    #first we will check for correct pin\n",
        "    temp=input(\"please enter your pin\")\n",
        "    if temp==self.pin:\n",
        "      amount=int(input(\"enter the amount to be deposited:\"))\n",
        "      self.balance=self.balance+amount\n",
        "      print('deposit successful an balance is:',self.balance)\n",
        "    else:\n",
        "      print('Invalid pin')\n",
        "\n",
        "  def withdraw(self):\n",
        "    temp=input(\"please enter your pin:\")\n",
        "    if temp==self.pin:\n",
        "      amount=int(input(\"enter the amount to be withdrawn\"))\n",
        "      if self.balance>amount:\n",
        "        self.balance=self.balance -amount\n",
        "        print(\"withdrawal successfully & balance is:\",self.balance)\n",
        "      else:\n",
        "        print(\"insufficient funds in your account\")\n",
        "    else:\n",
        "        print(\"invalid pin\")\n",
        "\n",
        "  def check_balance(self):\n",
        "      temp=(input('enter your pin'))\n",
        "      if temp==self.pin:\n",
        "        print(\"your balence is:\",self.balance)\n",
        "      else:\n",
        "        print('invalid pin')\n",
        "\n",
        "sbi=Atm()"
      ],
      "metadata": {
        "colab": {
          "base_uri": "https://localhost:8080/"
        },
        "id": "DxThzxc0FXwx",
        "outputId": "1d909529-2688-45e1-8da0-2bc568a8c348"
      },
      "execution_count": null,
      "outputs": [
        {
          "output_type": "stream",
          "name": "stdout",
          "text": [
            "139596294314832\n",
            "\n",
            "    Hello, how would you like to proceed?\n",
            "    1.Enter 1 to create pin\n",
            "    2.Enter 2 to deposit\n",
            "    3.Enter 3 to withdraw\n",
            "    4.Enter 4 to check balance\n",
            "    5.Enter 5 to exit \n",
            "    5\n",
            "bye\n"
          ]
        }
      ]
    },
    {
      "cell_type": "code",
      "source": [
        "sbi.deposit()"
      ],
      "metadata": {
        "colab": {
          "base_uri": "https://localhost:8080/"
        },
        "id": "3acPMjcHFyXm",
        "outputId": "40cc1242-fa54-4770-fe1b-221d2e10a474"
      },
      "execution_count": null,
      "outputs": [
        {
          "output_type": "stream",
          "name": "stdout",
          "text": [
            "please enter your pin1111\n",
            "enter the amount to be deposited:5000\n",
            "deposit successful an balance is: 5000\n"
          ]
        }
      ]
    },
    {
      "cell_type": "code",
      "source": [
        "sbi.withdraw()"
      ],
      "metadata": {
        "colab": {
          "base_uri": "https://localhost:8080/"
        },
        "id": "EiuEYVaRLqaM",
        "outputId": "0a62bdbd-8b22-4197-f2ab-5bed6cb63e97"
      },
      "execution_count": null,
      "outputs": [
        {
          "output_type": "stream",
          "name": "stdout",
          "text": [
            "please enter your pin:1111\n",
            "enter the amount to be withdrawn6000\n",
            "insufficient funds in your account\n"
          ]
        }
      ]
    },
    {
      "cell_type": "code",
      "source": [
        "sbi.withdraw()"
      ],
      "metadata": {
        "colab": {
          "base_uri": "https://localhost:8080/"
        },
        "id": "ToY2ckL9Mz8R",
        "outputId": "8fb8b037-825d-440c-b52d-822dd03ff0a0"
      },
      "execution_count": null,
      "outputs": [
        {
          "output_type": "stream",
          "name": "stdout",
          "text": [
            "please enter your pin:1111\n",
            "enter the amount to be withdrawn2000\n",
            "withdrawal successfully & balance is: 3000\n"
          ]
        }
      ]
    },
    {
      "cell_type": "code",
      "source": [
        "sbi.check_balance(\n",
        "\n",
        ")"
      ],
      "metadata": {
        "colab": {
          "base_uri": "https://localhost:8080/"
        },
        "id": "pyHwzdlYNPGo",
        "outputId": "ee31171d-4241-4815-83c2-63526513dfcd"
      },
      "execution_count": null,
      "outputs": [
        {
          "output_type": "stream",
          "name": "stdout",
          "text": [
            "enter your pin1111\n",
            "your balence is: 3000\n"
          ]
        }
      ]
    },
    {
      "cell_type": "code",
      "source": [
        "# we can create another instance of same class"
      ],
      "metadata": {
        "id": "hdOfN2KSMz-n"
      },
      "execution_count": null,
      "outputs": []
    },
    {
      "cell_type": "code",
      "source": [
        "hdfc=Atm()"
      ],
      "metadata": {
        "colab": {
          "base_uri": "https://localhost:8080/"
        },
        "id": "2Ur2Tfp6M0A2",
        "outputId": "5bf5a122-3d44-4f6c-a44b-876c190bd25e"
      },
      "execution_count": null,
      "outputs": [
        {
          "output_type": "stream",
          "name": "stdout",
          "text": [
            "\n",
            "    Hello, how would you like to proceed?\n",
            "    1.Enter 1 to create pin\n",
            "    2.Enter 2 to deposit\n",
            "    3.Enter 3 to withdraw\n",
            "    4.Enter 4 to check balance\n",
            "    5.Enter 5 to exit \n",
            "    1\n",
            "enter your new pin:1234\n",
            "Pin set successfully: 1234\n"
          ]
        }
      ]
    },
    {
      "cell_type": "code",
      "source": [
        "hdfc.deposit()"
      ],
      "metadata": {
        "colab": {
          "base_uri": "https://localhost:8080/"
        },
        "id": "eTeSz0wXM0DV",
        "outputId": "1c52c858-59b3-4d68-bf79-0ee91242ba8d"
      },
      "execution_count": null,
      "outputs": [
        {
          "output_type": "stream",
          "name": "stdout",
          "text": [
            "please enter your pin1234\n",
            "enter the amount to be deposited:1000\n",
            "deposit successful an balance is: 1000\n"
          ]
        }
      ]
    },
    {
      "cell_type": "code",
      "source": [
        "hdfc.check_balance()"
      ],
      "metadata": {
        "colab": {
          "base_uri": "https://localhost:8080/"
        },
        "id": "V-fEZGAhPXEZ",
        "outputId": "14075c5d-e929-402b-d168-a2f3f9e33c50"
      },
      "execution_count": null,
      "outputs": [
        {
          "output_type": "stream",
          "name": "stdout",
          "text": [
            "enter your pin1234\n",
            "your balence is: 1000\n"
          ]
        }
      ]
    },
    {
      "cell_type": "code",
      "source": [
        "sbi=Atm()"
      ],
      "metadata": {
        "colab": {
          "base_uri": "https://localhost:8080/"
        },
        "id": "pioKc3nTPecV",
        "outputId": "f9589854-9fbc-4069-d05c-f907d28203b4"
      },
      "execution_count": null,
      "outputs": [
        {
          "output_type": "stream",
          "name": "stdout",
          "text": [
            "\n",
            "    Hello, how would you like to proceed?\n",
            "    1.Enter 1 to create pin\n",
            "    2.Enter 2 to deposit\n",
            "    3.Enter 3 to withdraw\n",
            "    4.Enter 4 to check balance\n",
            "    5.Enter 5 to exit \n",
            "    1\n",
            "enter your new pin:1111\n",
            "Pin set successfully: 1111\n"
          ]
        }
      ]
    },
    {
      "cell_type": "code",
      "source": [
        "sbi.deposit()"
      ],
      "metadata": {
        "colab": {
          "base_uri": "https://localhost:8080/"
        },
        "id": "kbkgGeX-Pgqs",
        "outputId": "5a28d576-476d-4fab-927b-326f4f7dc802"
      },
      "execution_count": null,
      "outputs": [
        {
          "output_type": "stream",
          "name": "stdout",
          "text": [
            "please enter your pin1111\n",
            "enter the amount to be deposited:26500\n",
            "deposit successful an balance is: 36500\n"
          ]
        }
      ]
    },
    {
      "cell_type": "code",
      "source": [
        "sbi.check_balance()"
      ],
      "metadata": {
        "colab": {
          "base_uri": "https://localhost:8080/"
        },
        "id": "dFmymrfmPo8J",
        "outputId": "f3bf54e8-39e8-4694-8bbe-a88269a0d6b4"
      },
      "execution_count": null,
      "outputs": [
        {
          "output_type": "stream",
          "name": "stdout",
          "text": [
            "enter your pin1234\n",
            "invalid pin\n"
          ]
        }
      ]
    },
    {
      "cell_type": "code",
      "source": [
        "hdfc.check_balance()"
      ],
      "metadata": {
        "colab": {
          "base_uri": "https://localhost:8080/"
        },
        "id": "BjjRck1-Pt_O",
        "outputId": "106d1075-6bb4-4809-a8a5-0bfd61c37101"
      },
      "execution_count": null,
      "outputs": [
        {
          "output_type": "stream",
          "name": "stdout",
          "text": [
            "enter your pin1234\n",
            "your balence is: 1000\n"
          ]
        }
      ]
    },
    {
      "cell_type": "code",
      "source": [
        "# self is the object and with each new object self will change\n",
        "hsbc=Atm()"
      ],
      "metadata": {
        "colab": {
          "base_uri": "https://localhost:8080/"
        },
        "id": "QMebYujpPwkU",
        "outputId": "179631af-23e9-4480-f8dd-482d0adb05e2"
      },
      "execution_count": null,
      "outputs": [
        {
          "output_type": "stream",
          "name": "stdout",
          "text": [
            "139596294240720\n",
            "\n",
            "    Hello, how would you like to proceed?\n",
            "    1.Enter 1 to create pin\n",
            "    2.Enter 2 to deposit\n",
            "    3.Enter 3 to withdraw\n",
            "    4.Enter 4 to check balance\n",
            "    5.Enter 5 to exit \n",
            "    5\n",
            "bye\n"
          ]
        }
      ]
    },
    {
      "cell_type": "code",
      "source": [
        "monzo=Atm()"
      ],
      "metadata": {
        "colab": {
          "base_uri": "https://localhost:8080/"
        },
        "id": "mfSP78tITkVW",
        "outputId": "0658c4c5-419b-4078-840e-cb6857e8e55e"
      },
      "execution_count": null,
      "outputs": [
        {
          "output_type": "stream",
          "name": "stdout",
          "text": [
            "139596294314128\n",
            "\n",
            "    Hello, how would you like to proceed?\n",
            "    1.Enter 1 to create pin\n",
            "    2.Enter 2 to deposit\n",
            "    3.Enter 3 to withdraw\n",
            "    4.Enter 4 to check balance\n",
            "    5.Enter 5 to exit \n",
            "    5\n",
            "bye\n"
          ]
        }
      ]
    },
    {
      "cell_type": "code",
      "source": [
        "monzo"
      ],
      "metadata": {
        "colab": {
          "base_uri": "https://localhost:8080/"
        },
        "id": "X95P2v1sToe3",
        "outputId": "c3c5e126-a5ef-49f4-ec7c-36a955e7283e"
      },
      "execution_count": null,
      "outputs": [
        {
          "output_type": "execute_result",
          "data": {
            "text/plain": [
              "<__main__.Atm at 0x7ef64b88d890>"
            ]
          },
          "metadata": {},
          "execution_count": 57
        }
      ]
    },
    {
      "cell_type": "code",
      "source": [],
      "metadata": {
        "id": "RMX-BR3FTr5q"
      },
      "execution_count": null,
      "outputs": []
    },
    {
      "cell_type": "markdown",
      "source": [
        "**We will create fraction class and its objects**"
      ],
      "metadata": {
        "id": "RMxkiuWrXTbj"
      }
    },
    {
      "cell_type": "code",
      "source": [
        "class Fraction:\n",
        "  def __init__(self,n,d):\n",
        "    self.num=n\n",
        "    self.den=d\n",
        "\n",
        "  # __str__ prints automatically --as we print\n",
        "  def __str__(self):\n",
        "    return \"{}/{}\".format(self.num,self.den)\n",
        "\n",
        "  # we will create add -- as soon as + is triggered --it will\n",
        "  # add numerators of self and other and denominators of\n",
        "  # self and other\n",
        "\n",
        "  def __add__(self,other):\n",
        "    temp_num=(self.num*other.den + other.num*self.den)\n",
        "    temp_den=self.den*other.den\n",
        "    return \"{}/{}\".format(temp_num,temp_den)\n",
        "    #return \"{}/{}\".format((self.num*other.den + other.num*self.den),(self.den*other.den))\n",
        "\n",
        "  def __sub__(self,other):\n",
        "    temp_num=(self.num*other.den - other.num*self.den)\n",
        "    temp_den=self.den*other.den\n",
        "    return \"{}/{}\".format(temp_num,temp_den)\n",
        "\n",
        "  def __mul__(self,other):\n",
        "    return\"{}/{}\".format(self.num*other.num, self.den*self.den)\n",
        "\n",
        "  def __truediv__(self,other):\n",
        "    return\"{}/{}\".format(self.num*other.den, self.den*self.num)\n"
      ],
      "metadata": {
        "id": "QlJHNxMsXSz7"
      },
      "execution_count": null,
      "outputs": []
    },
    {
      "cell_type": "code",
      "source": [
        "x=Fraction(10,4)\n",
        "print(x)\n",
        "y=Fraction(5,6)\n",
        "print(y)\n",
        "\n",
        "\n"
      ],
      "metadata": {
        "colab": {
          "base_uri": "https://localhost:8080/"
        },
        "id": "Lv5nzo3MXS2A",
        "outputId": "459f069e-24cc-4025-fe26-652d7a8d92a0"
      },
      "execution_count": null,
      "outputs": [
        {
          "output_type": "stream",
          "name": "stdout",
          "text": [
            "10/4\n",
            "5/6\n"
          ]
        }
      ]
    },
    {
      "cell_type": "code",
      "source": [
        "print('sum is:',x+y)\n",
        "print('substraction is:',x-y)\n",
        "print('multiplication is:',x*y)\n",
        "print('division is:',x/y)"
      ],
      "metadata": {
        "colab": {
          "base_uri": "https://localhost:8080/"
        },
        "id": "jgYOYxHgXS4J",
        "outputId": "84f4c20b-f9a6-4514-ba9b-bc9322a7b701"
      },
      "execution_count": null,
      "outputs": [
        {
          "output_type": "stream",
          "name": "stdout",
          "text": [
            "sum is: 80/24\n",
            "substraction is: 40/24\n",
            "multiplication is: 50/16\n",
            "division is: 60/40\n"
          ]
        }
      ]
    },
    {
      "cell_type": "markdown",
      "source": [
        "**Encapsulation - Hiding the data or not giving the access**"
      ],
      "metadata": {
        "id": "ibn8OuHbhUVE"
      }
    },
    {
      "cell_type": "code",
      "source": [
        "# we will use Pascal case for class name\n",
        "# we will use snake_case for data and methods\n",
        "# in the class whenever we are defining data\n",
        "# we need to do it in special method called init\n",
        "# init is a constructor (spe. method) which gets automatically executed as\n",
        "# soon as we create the object of the class\n",
        "class Atm:\n",
        "\n",
        "  def __init__(self): #constructor\n",
        "    self.__pin=\"\"\n",
        "    self.__balance=0\n",
        "    print(id(self))\n",
        "\n",
        "\n",
        "    self.menu()\n",
        "\n",
        "  # we can crate two new methods to access/modify private data\n",
        "  def get_pin(self):\n",
        "    return self.__pin\n",
        "\n",
        "  def set_pin(self,new_pin):\n",
        "    if type(new_pin)==str:\n",
        "      self.__pin=new_pin\n",
        "      print('Pin changed succesfully to:',self.__pin)\n",
        "    else:\n",
        "      print('not allowed')\n",
        "\n",
        "\n",
        "  def menu(self):\n",
        "    user_input=input(\"\"\"\n",
        "    Hello, how would you like to proceed?\n",
        "    1.Enter 1 to create pin\n",
        "    2.Enter 2 to deposit\n",
        "    3.Enter 3 to withdraw\n",
        "    4.Enter 4 to check balance\n",
        "    5.Enter 5 to exit\n",
        "    \"\"\")\n",
        "\n",
        "    if user_input==\"1\":\n",
        "      #print(\"create pin:\")\n",
        "      self.create_pin()\n",
        "    elif user_input ==\"2\":\n",
        "      #print(\"deposit:\")\n",
        "      self.deposit()\n",
        "    elif user_input==\"3\":\n",
        "      #print(\"withdraw:\")\n",
        "      self.withdraw()\n",
        "    elif user_input==\"4\":\n",
        "      #print(\"check_balence:\")\n",
        "      self.check_balance()\n",
        "    else:\n",
        "      print(\"bye\")\n",
        "\n",
        "# we will create methods for each functinalities\n",
        "# so that our object can access them\n",
        "\n",
        "  def create_pin(self):\n",
        "    self.__pin=input(\"enter your new pin:\")\n",
        "    print(\"Pin set successfully:\",self.__pin)\n",
        "\n",
        "  def deposit(self):\n",
        "    #first we will check for correct pin\n",
        "    temp=input(\"please enter your pin\")\n",
        "    if temp==self.__pin:\n",
        "      amount=int(input(\"enter the amount to be deposited:\"))\n",
        "      self.__balance=self.__balance+amount\n",
        "      print('deposit successful an balance is:',self.__balance)\n",
        "    else:\n",
        "      print('Invalid pin')\n",
        "\n",
        "  def withdraw(self):\n",
        "    temp=input(\"please enter your pin:\")\n",
        "    if temp==self.__pin:\n",
        "      amount=int(input(\"enter the amount to be withdrawn\"))\n",
        "      if self.__balance>amount:\n",
        "        self.__balance=self.__balance - amount\n",
        "        print(\"withdrawal successfully & balance is:\",self.__balance)\n",
        "      else:\n",
        "        print(\"insufficient funds in your account\")\n",
        "    else:\n",
        "        print(\"invalid pin\")\n",
        "\n",
        "  def check_balance(self):\n",
        "      temp=(input('enter your pin'))\n",
        "      if temp==self.__pin:\n",
        "        print(\"your balence is:\",self.__balance)\n",
        "      else:\n",
        "        print('invalid pin')\n",
        "\n",
        "sbi=Atm()\n",
        "#here sbi is called reference varible\n",
        "# it is actually pointing to Atm() object created at some address\n",
        "# if we directly use Atm() ,\n",
        "# then object will be created and it will be lost later"
      ],
      "metadata": {
        "colab": {
          "base_uri": "https://localhost:8080/"
        },
        "id": "EQvdAacTXS6Q",
        "outputId": "8d3bd9f1-39e3-4525-ff6f-c8073b01e7de"
      },
      "execution_count": null,
      "outputs": [
        {
          "output_type": "stream",
          "name": "stdout",
          "text": [
            "139596294572432\n",
            "\n",
            "    Hello, how would you like to proceed?\n",
            "    1.Enter 1 to create pin\n",
            "    2.Enter 2 to deposit\n",
            "    3.Enter 3 to withdraw\n",
            "    4.Enter 4 to check balance\n",
            "    5.Enter 5 to exit \n",
            "    1\n",
            "enter your new pin:1111\n",
            "Pin set successfully: 1111\n"
          ]
        }
      ]
    },
    {
      "cell_type": "code",
      "source": [
        "sbi.set_pin(5.6\n",
        "            )# you have to give characters # code won't crashf"
      ],
      "metadata": {
        "colab": {
          "base_uri": "https://localhost:8080/"
        },
        "id": "aZQzA7tIl0M0",
        "outputId": "98fe1b13-ec5c-43de-c590-dfea1e95e140"
      },
      "execution_count": null,
      "outputs": [
        {
          "output_type": "stream",
          "name": "stdout",
          "text": [
            "not allowed\n"
          ]
        }
      ]
    },
    {
      "cell_type": "code",
      "source": [
        "sbi.get_pin()"
      ],
      "metadata": {
        "colab": {
          "base_uri": "https://localhost:8080/",
          "height": 36
        },
        "id": "L6GfZezKl7iD",
        "outputId": "ffcf67b6-8dbe-4aa9-9ad7-b086f4173341"
      },
      "execution_count": null,
      "outputs": [
        {
          "output_type": "execute_result",
          "data": {
            "text/plain": [
              "'9999'"
            ],
            "application/vnd.google.colaboratory.intrinsic+json": {
              "type": "string"
            }
          },
          "metadata": {},
          "execution_count": 91
        }
      ]
    },
    {
      "cell_type": "code",
      "source": [
        "sbi.deposit()"
      ],
      "metadata": {
        "colab": {
          "base_uri": "https://localhost:8080/"
        },
        "id": "3X6g4MSJlGAF",
        "outputId": "d78452c8-8aed-42f8-dd0f-a1a6cb381936"
      },
      "execution_count": null,
      "outputs": [
        {
          "output_type": "stream",
          "name": "stdout",
          "text": [
            "please enter your pin9999\n",
            "enter the amount to be deposited:200\n",
            "deposit successful an balance is: 1200\n"
          ]
        }
      ]
    },
    {
      "cell_type": "code",
      "source": [
        "# __ will create a new variable\n",
        "# __pin will be saved in _Atm__balance\n",
        "\n",
        "# if we change this _Atm_balance\n",
        "# definately there will be some problem, code will crash\n",
        "# so in python is nothing is truely private\n",
        "# python is not completely hiding because python is for adults\n",
        "# once it is said that variable is private , don't touch it\n",
        "# this is the philosophy behind the encapsulation"
      ],
      "metadata": {
        "id": "eReS0-73hRR2"
      },
      "execution_count": null,
      "outputs": []
    },
    {
      "cell_type": "code",
      "source": [
        "# Pass by reference concept\n",
        "# we are passing object as a argument to a class\n",
        "# just like we pass int,str,list as argument\n",
        "# we can also pass object as an argument\n",
        "# this is not so surprising bcoz everything in python is object\n",
        "# int, str, list everything is a object in python -okay"
      ],
      "metadata": {
        "id": "vbMVj_18hRUS"
      },
      "execution_count": null,
      "outputs": []
    },
    {
      "cell_type": "code",
      "source": [
        "class Customer:\n",
        "  def __init__(self,name,gender):\n",
        "    self.name=name\n",
        "    self.gender=gender\n",
        "\n",
        "# I will create the function outside class--\n",
        "# this is not a method and I will pass the object\n",
        "# my created function will receive the data type\n",
        "\n",
        "def greet(orange):# in the argument we will create dummy object\n",
        "  if orange.gender==\"male\":\n",
        "    print(\"Hello:\",orange.name,' sir')\n",
        "  elif orange.gender==\"female\":\n",
        "    print(\"Hello:\",orange.name,' mam')\n",
        "  # we can return object also\n",
        "  cust3=Customer(\"Duke\",\"Male\")\n",
        "  return cust3\n",
        "\n",
        "\n",
        "\n",
        "# now we will create the object and pass it as argument\n",
        "cust1=Customer(\"Nilesh\",'male')\n",
        "cust2=Customer('Jeniffer','female')\n",
        "greet(cust1)# I passed cust as object\n",
        "\n",
        "new_cust=greet(cust2) # object returned saved here\n",
        "print(\"Returned name is:\", new_cust.name,\" & gender is:\",new_cust.gender)"
      ],
      "metadata": {
        "colab": {
          "base_uri": "https://localhost:8080/"
        },
        "id": "vG0nJY5uhRWq",
        "outputId": "df6ad472-d611-4f88-ddb5-b7c641c64d8a"
      },
      "execution_count": null,
      "outputs": [
        {
          "output_type": "stream",
          "name": "stdout",
          "text": [
            "Hello: Nilesh  sir\n",
            "Hello: Jeniffer  mam\n",
            "Returned name is: Duke  & gender is: Male\n"
          ]
        }
      ]
    },
    {
      "cell_type": "code",
      "source": [
        "\n",
        "cust=Customer('Nilesh')\n",
        "print(cust.name)"
      ],
      "metadata": {
        "colab": {
          "base_uri": "https://localhost:8080/"
        },
        "id": "ZsB20OPdoYay",
        "outputId": "f68c58c0-69b0-4a80-849c-721d94e38a2c"
      },
      "execution_count": null,
      "outputs": [
        {
          "output_type": "stream",
          "name": "stdout",
          "text": [
            "Nilesh\n"
          ]
        }
      ]
    },
    {
      "cell_type": "code",
      "source": [
        " # pass the clone of object otherwise if you pass\n",
        " # original object and function make some changes\n",
        " # your data will be modified"
      ],
      "metadata": {
        "id": "rdOWKdHToYb3"
      },
      "execution_count": null,
      "outputs": []
    },
    {
      "cell_type": "markdown",
      "source": [
        "**Collection of objects**"
      ],
      "metadata": {
        "id": "Wn5O6BvxD9Tl"
      }
    },
    {
      "cell_type": "code",
      "source": [
        "class Customer:\n",
        "  # we will create the constructor\n",
        "  def __init__(self,name,age):\n",
        "    self.name=name\n",
        "    self.age=age\n",
        "  def intro(self):\n",
        "    print('I am:',self.name,'& my age is:',self.age)\n",
        "\n"
      ],
      "metadata": {
        "id": "f9zXjJjKoYgF"
      },
      "execution_count": null,
      "outputs": []
    },
    {
      "cell_type": "code",
      "source": [
        "# we will create the objects\n",
        "c1=Customer(\"Nilesh\",30)\n",
        "c2=Customer(\"Jeniffer\",25)\n",
        "c3=Customer('Duke',36)\n",
        "\n",
        "# we can create list of objects\n",
        "# we can code like usually we do on built in datatypes\n",
        "\n",
        "L=[c1,c2,c3]\n",
        "\n",
        "for i in L:\n",
        "  print(i)\n",
        "\n",
        "# it will print just object at some memory location\n",
        "# but it will not show because we did not use magic fun str\n",
        "\n",
        "for i in L:\n",
        "  print(i.name,i.age)\n",
        "\n",
        "for i in L:\n",
        "  i.intro()\n"
      ],
      "metadata": {
        "colab": {
          "base_uri": "https://localhost:8080/"
        },
        "id": "TXbDAPx0D8lp",
        "outputId": "1432b53d-66b1-41e9-cdd2-bfc524d7219f"
      },
      "execution_count": null,
      "outputs": [
        {
          "output_type": "stream",
          "name": "stdout",
          "text": [
            "<__main__.Customer object at 0x7ef64b74dd90>\n",
            "<__main__.Customer object at 0x7ef64b74c350>\n",
            "<__main__.Customer object at 0x7ef64b74c150>\n",
            "Nilesh 30\n",
            "Jeniffer 25\n",
            "Duke 36\n",
            "I am: Nilesh & my age is: 30\n",
            "I am: Jeniffer & my age is: 25\n",
            "I am: Duke & my age is: 36\n"
          ]
        }
      ]
    },
    {
      "cell_type": "markdown",
      "source": [
        "**Static counter - to assign separate value for each object**"
      ],
      "metadata": {
        "id": "0iBZ3hCrIuPC"
      }
    },
    {
      "cell_type": "code",
      "source": [
        "class Atm:\n",
        "\n",
        "  #static/class\n",
        "  __counter=1 # it is a class variable e.g course/stream\n",
        "\n",
        "  def __init__(self): #constructor\n",
        "    self.__pin=\"\"\n",
        "    self.__balance=0\n",
        "    self.sno = Atm.__counter\n",
        "    Atm.__counter = Atm.__counter+1\n",
        "    print(id(self))\n",
        "\n",
        "    #self.menu()\n",
        "  @staticmethod\n",
        "  def get_counter():# self is not needed class var not object\n",
        "    print(Atm.__counter)\n",
        "  @staticmethod\n",
        "  def set_counter(val):# self is not needed , it is static method\n",
        "    if type(val)==int:\n",
        "      Atm.__counter=val\n",
        "      print(Atm.__counter)\n",
        "    else:\n",
        "      print('not allowed')\n",
        "\n",
        "  # we can crate two new methods to access/modify private data\n",
        "  def get_pin(self):\n",
        "    return self.__pin\n",
        "\n",
        "  def set_pin(self,new_pin):\n",
        "    if type(new_pin)==str:\n",
        "      self.__pin=new_pin\n",
        "      print('Pin changed succesfully to:',self.__pin)\n",
        "    else:\n",
        "      print('not allowed')\n",
        "\n",
        "\n",
        "  def menu(self):\n",
        "    user_input=input(\"\"\"\n",
        "    Hello, how would you like to proceed?\n",
        "    1.Enter 1 to create pin\n",
        "    2.Enter 2 to deposit\n",
        "    3.Enter 3 to withdraw\n",
        "    4.Enter 4 to check balance\n",
        "    5.Enter 5 to exit\n",
        "    \"\"\")\n",
        "\n",
        "    if user_input==\"1\":\n",
        "      #print(\"create pin:\")\n",
        "      self.create_pin()\n",
        "    elif user_input ==\"2\":\n",
        "      #print(\"deposit:\")\n",
        "      self.deposit()\n",
        "    elif user_input==\"3\":\n",
        "      #print(\"withdraw:\")\n",
        "      self.withdraw()\n",
        "    elif user_input==\"4\":\n",
        "      #print(\"check_balence:\")\n",
        "      self.check_balance()\n",
        "    else:\n",
        "      print(\"bye\")\n",
        "\n",
        "# we will create methods for each functinalities\n",
        "# so that our object can access them\n",
        "\n",
        "  def create_pin(self):\n",
        "    self.__pin=input(\"enter your new pin:\")\n",
        "    print(\"Pin set successfully:\",self.__pin)\n",
        "\n",
        "  def deposit(self):\n",
        "    #first we will check for correct pin\n",
        "    temp=input(\"please enter your pin\")\n",
        "    if temp==self.__pin:\n",
        "      amount=int(input(\"enter the amount to be deposited:\"))\n",
        "      self.__balance=self.__balance+amount\n",
        "      print('deposit successful an balance is:',self.__balance)\n",
        "    else:\n",
        "      print('Invalid pin')\n",
        "\n",
        "  def withdraw(self):\n",
        "    temp=input(\"please enter your pin:\")\n",
        "    if temp==self.__pin:\n",
        "      amount=int(input(\"enter the amount to be withdrawn\"))\n",
        "      if self.__balance>amount:\n",
        "        self.__balance=self.__balance - amount\n",
        "        print(\"withdrawal successfully & balance is:\",self.__balance)\n",
        "      else:\n",
        "        print(\"insufficient funds in your account\")\n",
        "    else:\n",
        "        print(\"invalid pin\")\n",
        "\n",
        "  def check_balance(self):\n",
        "      temp=(input('enter your pin'))\n",
        "      if temp==self.__pin:\n",
        "        print(\"your balence is:\",self.__balance)\n",
        "      else:\n",
        "        print('invalid pin')\n",
        "\n",
        "#sbi=Atm()"
      ],
      "metadata": {
        "id": "8auwR8rxhRY-"
      },
      "execution_count": null,
      "outputs": []
    },
    {
      "cell_type": "code",
      "source": [
        "Atm.get_counter()\n",
        "Atm.set_counter(10)"
      ],
      "metadata": {
        "colab": {
          "base_uri": "https://localhost:8080/"
        },
        "id": "7WuknOOoNVNU",
        "outputId": "3e0d0150-2d2c-4f7d-a10d-a911d3c1a127"
      },
      "execution_count": null,
      "outputs": [
        {
          "output_type": "stream",
          "name": "stdout",
          "text": [
            "11\n",
            "10\n"
          ]
        }
      ]
    },
    {
      "cell_type": "code",
      "source": [
        "c1=Atm()"
      ],
      "metadata": {
        "colab": {
          "base_uri": "https://localhost:8080/"
        },
        "id": "WhR0pNbRXS8p",
        "outputId": "c92255c3-5fe3-4bbf-ce88-8af57a8f1417"
      },
      "execution_count": null,
      "outputs": [
        {
          "output_type": "stream",
          "name": "stdout",
          "text": [
            "139596292954256\n"
          ]
        }
      ]
    },
    {
      "cell_type": "code",
      "source": [
        "c2=Atm()"
      ],
      "metadata": {
        "colab": {
          "base_uri": "https://localhost:8080/"
        },
        "id": "MAXAxOzEXS_B",
        "outputId": "3e3c01b0-97ea-4048-aa79-2c7eddc4071f"
      },
      "execution_count": null,
      "outputs": [
        {
          "output_type": "stream",
          "name": "stdout",
          "text": [
            "139596293165136\n"
          ]
        }
      ]
    },
    {
      "cell_type": "code",
      "source": [
        "c3=Atm()"
      ],
      "metadata": {
        "colab": {
          "base_uri": "https://localhost:8080/"
        },
        "id": "tJrv2wbKDhjF",
        "outputId": "d6d80f08-d951-4fe2-833c-e92c814b41e4"
      },
      "execution_count": null,
      "outputs": [
        {
          "output_type": "stream",
          "name": "stdout",
          "text": [
            "139596293162704\n"
          ]
        }
      ]
    },
    {
      "cell_type": "code",
      "source": [
        "print('c1 serial no:',c1.sno)\n",
        "print(\"c2:\", c2.sno)\n",
        "print('c3:',c3.sno)\n",
        "#print(c1.counter,c2.counter,c3.counter)\n",
        "#print(Atm.counter)\n",
        "c1.set_counter(10)\n",
        "\n"
      ],
      "metadata": {
        "colab": {
          "base_uri": "https://localhost:8080/"
        },
        "id": "wYaHqyqaDhmE",
        "outputId": "0033c19f-5d4d-4d6e-a63a-f25941fed519"
      },
      "execution_count": null,
      "outputs": [
        {
          "output_type": "stream",
          "name": "stdout",
          "text": [
            "c1 serial no: 1\n",
            "c2: 2\n",
            "c3: 3\n",
            "10\n"
          ]
        }
      ]
    },
    {
      "cell_type": "code",
      "source": [
        "c4=Atm()\n",
        "print(c4.sno)"
      ],
      "metadata": {
        "colab": {
          "base_uri": "https://localhost:8080/"
        },
        "id": "jV4BDyDbMNgY",
        "outputId": "f08274e2-61a8-4fca-a970-2c35ef0c503c"
      },
      "execution_count": null,
      "outputs": [
        {
          "output_type": "stream",
          "name": "stdout",
          "text": [
            "139596293253712\n",
            "10\n"
          ]
        }
      ]
    },
    {
      "cell_type": "code",
      "source": [
        "c5=Atm()\n",
        "print(c5.sno)"
      ],
      "metadata": {
        "colab": {
          "base_uri": "https://localhost:8080/"
        },
        "id": "6rMCnrGHMWmz",
        "outputId": "b802b349-97d2-4696-d323-790074d6343d"
      },
      "execution_count": null,
      "outputs": [
        {
          "output_type": "stream",
          "name": "stdout",
          "text": [
            "139596293245584\n",
            "11\n"
          ]
        }
      ]
    },
    {
      "cell_type": "code",
      "source": [
        "print(Atm.counter)\n",
        "# but junior programmer can change it\n",
        "Atm.counter='dfasdf'\n",
        "print(Atm.counter)\n",
        "\n",
        "# so we need to make it private first by putting __counter\n",
        "# to give access to junior programmer we can\n",
        "# use get_counter and set_counter"
      ],
      "metadata": {
        "colab": {
          "base_uri": "https://localhost:8080/"
        },
        "id": "aAbQFAUhDhoY",
        "outputId": "99c6e29d-56e5-461e-e1c8-afc7e2376c41"
      },
      "execution_count": null,
      "outputs": [
        {
          "output_type": "stream",
          "name": "stdout",
          "text": [
            "dfasdf\n",
            "dfasdf\n"
          ]
        }
      ]
    },
    {
      "cell_type": "markdown",
      "source": [
        "**Relationship between Class - Aggregation (has-A) and Inheritance(Is-A)**"
      ],
      "metadata": {
        "id": "QT0R_ZgfPwr9"
      }
    },
    {
      "cell_type": "code",
      "source": [
        "class Customer:\n",
        "  def __init__(self,name,gender,address):\n",
        "    self.name=name\n",
        "    self.gender=gender\n",
        "    self.address=address\n",
        "  def edit_profile(self,new_name,new_city,new_pin,new_state):\n",
        "    self.name=new_name\n",
        "    self.address.change_address(new_city,new_pin,new_state)\n",
        "\n",
        "class Address:\n",
        "  def __init__(self,city,pincode,state):\n",
        "    self.city=city\n",
        "    self.pincode=pincode\n",
        "    self.state=state\n",
        "\n",
        "  def change_address(self,new_city,new_pin,new_state):\n",
        "    self.city=new_city\n",
        "    self.pincode=new_pin\n",
        "    self.state=new_state\n",
        "\n",
        "\n"
      ],
      "metadata": {
        "id": "vriQx05MDhrB"
      },
      "execution_count": null,
      "outputs": []
    },
    {
      "cell_type": "code",
      "source": [
        "add=Address('Kolhapur',416012,'MH')\n",
        "cust=Customer('Nilesh','male',add)\n",
        "\n",
        "cust.edit_profile('Andrew','coventry','CV12JU','CV')\n",
        "print(cust.address.pincode)"
      ],
      "metadata": {
        "colab": {
          "base_uri": "https://localhost:8080/"
        },
        "id": "ZHGtODKODhtc",
        "outputId": "73209530-def7-4fee-9d1a-59aba17dc1c9"
      },
      "execution_count": null,
      "outputs": [
        {
          "output_type": "stream",
          "name": "stdout",
          "text": [
            "CV12JU\n"
          ]
        }
      ]
    },
    {
      "cell_type": "markdown",
      "source": [
        "**Inheritance**\n",
        "-Inheritance works from parent to child not reverse\n",
        "-Inheritance is for code reuseability\n",
        "-DRY- do not repeat yourself -principle\n",
        "- Consider Udemy app - student and instructor will inherit from user class"
      ],
      "metadata": {
        "id": "hL6F6V4OWkQj"
      }
    },
    {
      "cell_type": "code",
      "source": [
        "class User:\n",
        "  def login(self):\n",
        "    print('login')\n",
        "  def register(self):\n",
        "    print('register')\n",
        "\n",
        "class Student (User): # Student is child class which inherits from USer\n",
        "  def enroll(self):\n",
        "    print('enroll')\n",
        "  def review(self):\n",
        "    print('review')\n",
        "\n",
        "stud1=Student()\n",
        "stud1.enroll()\n",
        "stud1.review()\n",
        "stud1.login()\n",
        "stud1.register()\n",
        "\n",
        "user1=User()\n",
        "user1.login()\n",
        "user1.register()\n",
        "#user1.enroll() - # reverse or corrolary is not true\n",
        "#user1.review() - # code will crash as parent class can't access child"
      ],
      "metadata": {
        "colab": {
          "base_uri": "https://localhost:8080/",
          "height": 311
        },
        "id": "zgVud7CfDhwU",
        "outputId": "3f928078-a01a-4b46-acc5-4ccb62ce81b5"
      },
      "execution_count": null,
      "outputs": [
        {
          "output_type": "stream",
          "name": "stdout",
          "text": [
            "enroll\n",
            "review\n",
            "login\n",
            "register\n",
            "login\n",
            "register\n"
          ]
        },
        {
          "output_type": "error",
          "ename": "AttributeError",
          "evalue": "'User' object has no attribute 'enroll'",
          "traceback": [
            "\u001b[0;31m---------------------------------------------------------------------------\u001b[0m",
            "\u001b[0;31mAttributeError\u001b[0m                            Traceback (most recent call last)",
            "\u001b[0;32m<ipython-input-165-c086ea52c3b1>\u001b[0m in \u001b[0;36m<cell line: 0>\u001b[0;34m()\u001b[0m\n\u001b[1;32m     20\u001b[0m \u001b[0muser1\u001b[0m\u001b[0;34m.\u001b[0m\u001b[0mlogin\u001b[0m\u001b[0;34m(\u001b[0m\u001b[0;34m)\u001b[0m\u001b[0;34m\u001b[0m\u001b[0;34m\u001b[0m\u001b[0m\n\u001b[1;32m     21\u001b[0m \u001b[0muser1\u001b[0m\u001b[0;34m.\u001b[0m\u001b[0mregister\u001b[0m\u001b[0;34m(\u001b[0m\u001b[0;34m)\u001b[0m\u001b[0;34m\u001b[0m\u001b[0;34m\u001b[0m\u001b[0m\n\u001b[0;32m---> 22\u001b[0;31m \u001b[0muser1\u001b[0m\u001b[0;34m.\u001b[0m\u001b[0menroll\u001b[0m\u001b[0;34m(\u001b[0m\u001b[0;34m)\u001b[0m\u001b[0;34m\u001b[0m\u001b[0;34m\u001b[0m\u001b[0m\n\u001b[0m\u001b[1;32m     23\u001b[0m \u001b[0muser1\u001b[0m\u001b[0;34m.\u001b[0m\u001b[0mreview\u001b[0m\u001b[0;34m(\u001b[0m\u001b[0;34m)\u001b[0m\u001b[0;34m\u001b[0m\u001b[0;34m\u001b[0m\u001b[0m\n",
            "\u001b[0;31mAttributeError\u001b[0m: 'User' object has no attribute 'enroll'"
          ]
        }
      ]
    },
    {
      "cell_type": "markdown",
      "source": [
        "**Type of inheritances - There are 4 types** single inheritance,multilevel,hirarchial,multiple,hybrid(combination)"
      ],
      "metadata": {
        "id": "d6A96TVl0jWJ"
      }
    },
    {
      "cell_type": "code",
      "source": [
        "class Product:\n",
        "  def review(self):\n",
        "    print('product customer review')\n",
        "\n",
        "class Phone(Product):# Phone inherits from product\n",
        "  def __init__(self,price,brand,camera):\n",
        "    print('Inside phone Constructor:')\n",
        "    self.price=price\n",
        "    self.brand=brand\n",
        "    self.camera=camera\n",
        "\n",
        "  def buy(self):\n",
        "    print('buying phone')\n",
        "\n",
        "  def return_phone(self):\n",
        "    print('Returning phone')\n",
        "\n",
        "class SmartPhone(Phone):# SmartPhone Inherits from Phone\n",
        "  pass\n",
        "\n",
        "SmartPhone(1000,\"Apple\",'13px').buy()\n",
        "#SmartPhone(1000,\"Apple\",'13px').camera\n",
        "SmartPhone(1000,\"Apple\",'13px').review()\n",
        "print(SmartPhone(1000,\"Apple\",'13px').camera)"
      ],
      "metadata": {
        "colab": {
          "base_uri": "https://localhost:8080/"
        },
        "id": "rRI2eMvgXYu-",
        "outputId": "0f4b1a7e-aebd-49e2-a2d9-69c94e2b8e19"
      },
      "execution_count": null,
      "outputs": [
        {
          "output_type": "stream",
          "name": "stdout",
          "text": [
            "Inside phone Constructor:\n",
            "buying phone\n",
            "Inside phone Constructor:\n",
            "product customer review\n",
            "Inside phone Constructor:\n",
            "13px\n"
          ]
        }
      ]
    },
    {
      "cell_type": "markdown",
      "source": [
        "**Polymorphism - poly means many , morph means faces**\n",
        "1.Method overriding\n",
        "2.Method overloading ( one function name-different changes)\n",
        "3.Operator Overloading"
      ],
      "metadata": {
        "id": "-RRp9X8h5mT1"
      }
    },
    {
      "cell_type": "code",
      "source": [
        "class Geometry:\n",
        "\n",
        "  def area(self,a,b=0): # same name -area\n",
        "    if b==0:\n",
        "      print('circle:',3.14*a*a)\n",
        "    else:\n",
        "      print('rectangle:',a*b)\n",
        "\n",
        "\n",
        "obj=Geometry()\n",
        "obj.area(10)\n",
        "obj.area(10,5)\n",
        "\n",
        "# it will work in java\n",
        "# it does not work in python-we need to make changes\n",
        "# use routing bigger function etc\n",
        "# technically speaking method overriding does not exist"
      ],
      "metadata": {
        "colab": {
          "base_uri": "https://localhost:8080/"
        },
        "id": "JR2vablkXYxg",
        "outputId": "caf474db-d5a7-497b-9cdd-288402fcad88"
      },
      "execution_count": null,
      "outputs": [
        {
          "output_type": "stream",
          "name": "stdout",
          "text": [
            "circle: 314.0\n",
            "rectangle: 50\n"
          ]
        }
      ]
    },
    {
      "cell_type": "code",
      "source": [],
      "metadata": {
        "id": "WvdbqPIBXY0B"
      },
      "execution_count": null,
      "outputs": []
    },
    {
      "cell_type": "code",
      "source": [],
      "metadata": {
        "id": "MdHdVKUpXY3R"
      },
      "execution_count": null,
      "outputs": []
    },
    {
      "cell_type": "code",
      "source": [],
      "metadata": {
        "id": "7W4NpgE2XY5R"
      },
      "execution_count": null,
      "outputs": []
    },
    {
      "cell_type": "code",
      "source": [],
      "metadata": {
        "id": "fk3dVg8uXY7j"
      },
      "execution_count": null,
      "outputs": []
    },
    {
      "cell_type": "code",
      "source": [],
      "metadata": {
        "id": "SSOxjotlXY-Q"
      },
      "execution_count": null,
      "outputs": []
    },
    {
      "cell_type": "code",
      "source": [],
      "metadata": {
        "id": "NSU4zXU1XZA4"
      },
      "execution_count": null,
      "outputs": []
    },
    {
      "cell_type": "code",
      "source": [],
      "metadata": {
        "id": "P5PGdZP7XZDI"
      },
      "execution_count": null,
      "outputs": []
    },
    {
      "cell_type": "code",
      "source": [],
      "metadata": {
        "id": "RGSnNpZZXZFq"
      },
      "execution_count": null,
      "outputs": []
    },
    {
      "cell_type": "code",
      "source": [],
      "metadata": {
        "id": "scL7di4zXZIJ"
      },
      "execution_count": null,
      "outputs": []
    },
    {
      "cell_type": "code",
      "source": [],
      "metadata": {
        "id": "Na3xglgkXZKs"
      },
      "execution_count": null,
      "outputs": []
    },
    {
      "cell_type": "code",
      "source": [],
      "metadata": {
        "id": "2nDG5vTQXZNB"
      },
      "execution_count": null,
      "outputs": []
    },
    {
      "cell_type": "code",
      "source": [],
      "metadata": {
        "id": "_noBcMxnXZPL"
      },
      "execution_count": null,
      "outputs": []
    }
  ]
}